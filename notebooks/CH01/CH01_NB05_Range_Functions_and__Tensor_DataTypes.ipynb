{
  "nbformat": 4,
  "nbformat_minor": 0,
  "metadata": {
    "colab": {
      "provenance": []
    },
    "kernelspec": {
      "name": "python3",
      "display_name": "Python 3"
    },
    "language_info": {
      "name": "python"
    }
  },
  "cells": [
    {
      "cell_type": "markdown",
      "source": [
        "# **Loading Torch Library**"
      ],
      "metadata": {
        "id": "lmNliXnfTR9r"
      }
    },
    {
      "cell_type": "code",
      "execution_count": 1,
      "metadata": {
        "id": "5CwFw0DMS16M"
      },
      "outputs": [],
      "source": [
        "import torch"
      ]
    },
    {
      "cell_type": "markdown",
      "source": [
        "# Creating a Range and Tensors in PyTorch\n",
        "\n",
        "Sometimes you might want a range of numbers, such as 1 to 10 or 0 to 100. You can use `torch.arange(start, end, step)` to create such a range. Here's how it works:\n",
        "\n",
        "- **`start`**: The beginning of the range (e.g., 0).\n",
        "- **`end`**: The end of the range (e.g., 10). Note that the end value is exclusive.\n",
        "- **`step`**: The increment between each value in the range (e.g., 1).\n",
        "\n",
        "**Note**: In Python, you can use the built-in `range()` function to create a range of numbers. However, in PyTorch, `torch.range()` is deprecated and may result in an error in the future. Therefore, it's recommended to use `torch.arange()` for creating ranges in PyTorch."
      ],
      "metadata": {
        "id": "PNQbvahSTBoz"
      }
    },
    {
      "cell_type": "code",
      "source": [
        "# Use torch.arange() since, torch.range() is deprecated\n",
        "\n",
        "# Creating a range of numbers from 0 to 10\n",
        "arange_numbers = torch.arange(0, 10)\n",
        "print(arange_numbers)\n",
        "\n",
        "# Creating a range of numbers from 0 to 20 and step of 2.2\n",
        "arange_numbers2 = torch.arange(0, 20, 2.2)\n",
        "print(arange_numbers2)"
      ],
      "metadata": {
        "colab": {
          "base_uri": "https://localhost:8080/"
        },
        "id": "HafoJcpoTZo5",
        "outputId": "1547a7e9-16d7-48a4-8dcb-0cc8c5ef2476"
      },
      "execution_count": 8,
      "outputs": [
        {
          "output_type": "stream",
          "name": "stdout",
          "text": [
            "tensor([0, 1, 2, 3, 4, 5, 6, 7, 8, 9])\n",
            "tensor([ 0.0000,  2.2000,  4.4000,  6.6000,  8.8000, 11.0000, 13.2000, 15.4000,\n",
            "        17.6000, 19.8000])\n"
          ]
        }
      ]
    },
    {
      "cell_type": "markdown",
      "source": [
        "# Tensor Datatypes in PyTorch\n",
        "\n",
        "There are [many different tensor datatypes available](https://pytorch.org/docs/stable/tensors.html#data-types) in PyTorch. Some are specific for CPU and some are better for GPU. Getting to know which is which can take some time.\n",
        "\n",
        "Generally, if you see `torch.cuda` anywhere, the tensor is being used for GPU (since Nvidia GPUs use a computing toolkit called CUDA).\n",
        "\n",
        "The most common type (and generally the default) is `torch.float32` or `torch.float`. This is referred to as \"32-bit floating point\". But there's also:\n",
        "\n",
        "- **16-bit floating point**: `torch.float16` or `torch.half`\n",
        "- **64-bit floating point**: `torch.float64` or `torch.double`\n",
        "\n",
        "Additionally, there are 8-bit, 16-bit, 32-bit, and 64-bit integers, plus more!\n",
        "\n",
        "**Note that**:\n",
        "- An integer is a flat round number like 7, whereas a float has a decimal, such as 7.0.\n",
        "- Default datatype for tensors is float32\n",
        "\n",
        "**Let's see how to create some tensors with specific datatypes. We can do so using the dtype parameter.**"
      ],
      "metadata": {
        "id": "SlRzrX6gUn2R"
      }
    },
    {
      "cell_type": "code",
      "source": [
        "Tensor = torch.tensor([3,4,5],\n",
        "                      dtype= None, # Using None will use default dtype of the values in Tensor (e.g. int64)\n",
        "                      device= None, # Using None will use default device\n",
        "                      requires_grad=False) # Register any operations on this Tensor\n",
        "print(Tensor)\n",
        "print(Tensor.shape)\n",
        "print(Tensor.dtype)\n",
        "print(Tensor.device)"
      ],
      "metadata": {
        "colab": {
          "base_uri": "https://localhost:8080/"
        },
        "id": "rFrma9iWTsBt",
        "outputId": "74a58f6f-1ede-494b-874c-54493e54948c"
      },
      "execution_count": 11,
      "outputs": [
        {
          "output_type": "stream",
          "name": "stdout",
          "text": [
            "tensor([3, 4, 5])\n",
            "torch.Size([3])\n",
            "torch.int64\n",
            "cpu\n"
          ]
        }
      ]
    },
    {
      "cell_type": "markdown",
      "source": [
        "Another Example.."
      ],
      "metadata": {
        "id": "-Glg7MlbaL1F"
      }
    },
    {
      "cell_type": "code",
      "source": [
        "Tensor2 = torch.tensor([3,4,5],\n",
        "                      dtype= torch.float16, # Using float16 dtype (don't forget to `torch.` before dtype)\n",
        "                      device= None, # Using None will use default device\n",
        "                      requires_grad=False) # Register any operations on this Tensor\n",
        "print(Tensor2)\n",
        "print(Tensor2.shape)\n",
        "print(Tensor2.dtype)\n",
        "print(Tensor2.device)"
      ],
      "metadata": {
        "colab": {
          "base_uri": "https://localhost:8080/"
        },
        "id": "ofHJlMLvZwed",
        "outputId": "3ea85c1a-a891-4297-d629-6a085e7473e7"
      },
      "execution_count": 14,
      "outputs": [
        {
          "output_type": "stream",
          "name": "stdout",
          "text": [
            "tensor([3., 4., 5.], dtype=torch.float16)\n",
            "torch.Size([3])\n",
            "torch.float16\n",
            "cpu\n"
          ]
        }
      ]
    },
    {
      "cell_type": "markdown",
      "source": [
        "# **Thanks! Don't forget to Star the repo 🫡⭐**"
      ],
      "metadata": {
        "id": "YZfhDuVPWQez"
      }
    }
  ]
}