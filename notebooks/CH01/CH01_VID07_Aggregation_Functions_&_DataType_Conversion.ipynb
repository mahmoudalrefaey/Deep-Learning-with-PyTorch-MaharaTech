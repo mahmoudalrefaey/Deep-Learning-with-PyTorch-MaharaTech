{
  "nbformat": 4,
  "nbformat_minor": 0,
  "metadata": {
    "colab": {
      "provenance": []
    },
    "kernelspec": {
      "name": "python3",
      "display_name": "Python 3"
    },
    "language_info": {
      "name": "python"
    }
  },
  "cells": [
    {
      "cell_type": "markdown",
      "source": [
        "# **Loading Torch Library**"
      ],
      "metadata": {
        "id": "YNGlo6kqnK4S"
      }
    },
    {
      "cell_type": "code",
      "execution_count": 1,
      "metadata": {
        "id": "hb9_uj6MnCPU"
      },
      "outputs": [],
      "source": [
        "import torch"
      ]
    },
    {
      "cell_type": "markdown",
      "source": [
        "# 1. Finding the min, max, mean, sum, etc (aggregation)\n",
        "\n",
        "Now we've seen a few ways to manipulate tensors, let's run through a few ways to aggregate them (go from more values to less values).\n",
        "\n",
        "First we'll create a tensor and then find the max, min, mean and sum of it."
      ],
      "metadata": {
        "id": "hDlf_pgWnc4A"
      }
    },
    {
      "cell_type": "code",
      "source": [
        "X = torch.arange(0, 100, 10) # Create tensor \"vector\" of tensors aranged from 0 to 90 with step 10\n",
        "print(X) # print tensor"
      ],
      "metadata": {
        "colab": {
          "base_uri": "https://localhost:8080/"
        },
        "id": "ovmc-_0TnNkw",
        "outputId": "f408a9a0-6fd5-4895-90aa-2e275a8a3058"
      },
      "execution_count": 3,
      "outputs": [
        {
          "output_type": "stream",
          "name": "stdout",
          "text": [
            "tensor([ 0, 10, 20, 30, 40, 50, 60, 70, 80, 90])\n"
          ]
        }
      ]
    },
    {
      "cell_type": "code",
      "source": [
        "# Let's do some aggregations!\n",
        "print(f\"Maximum value of `X` Tensor: {X.max()}\")\n",
        "print(f\"Minimum value of `X` Tensor: {X.min()}\")\n",
        "# print(f\"Mean value of `X` Tensor: {X.mean()}\") --> Won't work due to int dtype for X\n",
        "print(f\"Mean value of `X` Tensor: {X.type(torch.float32).mean()}\") # won't work without float datatype\n",
        "print(f\"Sum of `X` Tensor: {X.sum()}\")"
      ],
      "metadata": {
        "colab": {
          "base_uri": "https://localhost:8080/"
        },
        "id": "x3V0DzhFoA2v",
        "outputId": "4a159002-b5f8-4a56-ebd7-bccd18940e84"
      },
      "execution_count": 11,
      "outputs": [
        {
          "output_type": "stream",
          "name": "stdout",
          "text": [
            "Maximum value of `X` Tensor: 90\n",
            "Minimum value of `X` Tensor: 0\n",
            "Mean value of `X` Tensor: 45.0\n",
            "Sum of `X` Tensor: 450\n"
          ]
        }
      ]
    },
    {
      "cell_type": "markdown",
      "source": [
        "> **Note:** You may find some methods such as `torch.mean()` require tensors to be in `torch.float32` (the most common) or another specific datatype, otherwise the operation will fail.\n",
        "\n",
        "You can also do the same as above with `torch` methods or we could say **using aggregation as functions not methods**.\n",
        "- e.g. `X.max()` (using aggregation as method)\n",
        "- e.g. `torch.max(X)` (using aggregation as function)"
      ],
      "metadata": {
        "id": "-pdkkYSPo29e"
      }
    },
    {
      "cell_type": "code",
      "source": [
        "# Let's do some aggregations!\n",
        "print(f\"Maximum value of `X` Tensor: {torch.max(X)}\")\n",
        "print(f\"Minimum value of `X` Tensor: {torch.min(X)}\")\n",
        "# print(f\"Mean value of `X` Tensor: {torch.mean(X)}\") --> Won't work due to int dtype for X\n",
        "print(f\"Mean value of `X` Tensor: {torch.mean(X.type(torch.float32))}\") # won't work without float datatype\n",
        "print(f\"Sum of `X` Tensor: {torch.sum(X)}\")"
      ],
      "metadata": {
        "colab": {
          "base_uri": "https://localhost:8080/"
        },
        "id": "SELDvitvoTgh",
        "outputId": "6da53663-6454-4592-d8f1-9ec60b8ce0ea"
      },
      "execution_count": 12,
      "outputs": [
        {
          "output_type": "stream",
          "name": "stdout",
          "text": [
            "Maximum value of `X` Tensor: 90\n",
            "Minimum value of `X` Tensor: 0\n",
            "Mean value of `X` Tensor: 45.0\n",
            "Sum of `X` Tensor: 450\n"
          ]
        }
      ]
    },
    {
      "cell_type": "markdown",
      "source": [
        "## Positional min/max\n",
        "\n",
        "You can also find the index of a tensor where the max or minimum occurs with [torch.argmax()](https://pytorch.org/docs/stable/generated/torch.argmax.html) and [torch.argmin()](https://pytorch.org/docs/stable/generated/torch.argmin.html), respectively.\n",
        "\n",
        "This is helpful in case you just want the position (index) where the highest (or lowest) value is and not the actual value itself (we'll see this in a later section when using the [softmax activation function](https://pytorch.org/docs/stable/generated/torch.nn.Softmax.html))."
      ],
      "metadata": {
        "id": "MW_mZ3slqgZO"
      }
    },
    {
      "cell_type": "code",
      "source": [
        "print(f\"Tensor: {X}\")\n",
        "print(f\"Index where max value occurs: {X.argmax()}\")\n",
        "print(f\"Index where min value occurs: {X.argmin()}\")"
      ],
      "metadata": {
        "colab": {
          "base_uri": "https://localhost:8080/"
        },
        "id": "Uvd7MMykpvSA",
        "outputId": "87a944c2-30fd-4962-b7c5-c9fa586e7c7f"
      },
      "execution_count": 13,
      "outputs": [
        {
          "output_type": "stream",
          "name": "stdout",
          "text": [
            "Tensor: tensor([ 0, 10, 20, 30, 40, 50, 60, 70, 80, 90])\n",
            "Index where max value occurs: 9\n",
            "Index where min value occurs: 0\n"
          ]
        }
      ]
    },
    {
      "cell_type": "markdown",
      "source": [
        "OR by using torch methods"
      ],
      "metadata": {
        "id": "s_TU84lorGEe"
      }
    },
    {
      "cell_type": "code",
      "source": [
        "print(f\"Tensor: {X}\")\n",
        "print(f\"Index where max value occurs: {torch.argmax(X)}\")\n",
        "print(f\"Index where min value occurs: {torch.argmin(X)}\")"
      ],
      "metadata": {
        "colab": {
          "base_uri": "https://localhost:8080/"
        },
        "id": "OcHT8NFvq_vY",
        "outputId": "22c220a5-2649-4197-a3a1-8cde7894de16"
      },
      "execution_count": 14,
      "outputs": [
        {
          "output_type": "stream",
          "name": "stdout",
          "text": [
            "Tensor: tensor([ 0, 10, 20, 30, 40, 50, 60, 70, 80, 90])\n",
            "Index where max value occurs: 9\n",
            "Index where min value occurs: 0\n"
          ]
        }
      ]
    },
    {
      "cell_type": "markdown",
      "source": [
        "## Change tensor datatype\n",
        "\n",
        "As mentioned, a common issue with deep learning operations is having your tensors in different datatypes.\n",
        "\n",
        "If one tensor is in `torch.float64` and another is in `torch.float32`, you might run into some errors.\n",
        "\n",
        "But there's a fix.\n",
        "\n",
        "You can change the datatypes of tensors using [torch.Tensor.type(dtype=None)](https://pytorch.org/docs/stable/tensors.html#torch.Tensor.type), where the `dtype` parameter is the datatype you'd like to use.\n",
        "\n",
        "First we'll create a tensor and check its datatype.\n",
        "\n",
        "The default for:\n",
        "- `range()` is `torch.float32`\n",
        "- but `arange()` has default dtype of numbers it took."
      ],
      "metadata": {
        "id": "9NXf_86hrmfl"
      }
    },
    {
      "cell_type": "markdown",
      "source": [
        "> the default for `range()` is `torch.float32`."
      ],
      "metadata": {
        "id": "HpF_-bYRtZ8T"
      }
    },
    {
      "cell_type": "code",
      "source": [
        "tensor_range = torch.range(10, 100, 10) # create tensor of vector\n",
        "print(f\"Default dtype for this tensor is: {tensor.dtype}\") # print datatype"
      ],
      "metadata": {
        "colab": {
          "base_uri": "https://localhost:8080/"
        },
        "id": "HLmTGoe5tcQj",
        "outputId": "07d517a2-0e42-4222-9382-cc6ed3f6023b"
      },
      "execution_count": 21,
      "outputs": [
        {
          "output_type": "stream",
          "name": "stdout",
          "text": [
            "Default dtype for this tensor is: torch.float32\n"
          ]
        },
        {
          "output_type": "stream",
          "name": "stderr",
          "text": [
            "<ipython-input-21-394f95df5c38>:1: UserWarning: torch.range is deprecated and will be removed in a future release because its behavior is inconsistent with Python's range builtin. Instead, use torch.arange, which produces values in [start, end).\n",
            "  tensor_range = torch.range(10, 100, 10) # create tensor of vector\n"
          ]
        }
      ]
    },
    {
      "cell_type": "markdown",
      "source": [
        "> `arange()` has default dtype of numbers it took."
      ],
      "metadata": {
        "id": "rxEnDYNDtNjt"
      }
    },
    {
      "cell_type": "code",
      "source": [
        "tensor = torch.arange(10, 100, 10) # create tensor of vector\n",
        "print(f\"Default dtype for this tensor is: {tensor.dtype}\") # print datatype"
      ],
      "metadata": {
        "colab": {
          "base_uri": "https://localhost:8080/"
        },
        "id": "1gTCEUAtrJ-i",
        "outputId": "182d4a61-b028-4e3e-d49b-1b39ef9b1b15"
      },
      "execution_count": 22,
      "outputs": [
        {
          "output_type": "stream",
          "name": "stdout",
          "text": [
            "Default dtype for this tensor is: torch.int64\n"
          ]
        }
      ]
    },
    {
      "cell_type": "markdown",
      "source": [
        "Now we'll change its datatype to `torch.float16`."
      ],
      "metadata": {
        "id": "CAoQ0KGmsQGV"
      }
    },
    {
      "cell_type": "code",
      "source": [
        "tensor = tensor.type(torch.float16) # change datatype to float16\n",
        "print(f\"New dtype for this tensor is: {tensor.dtype}\") # print datatype"
      ],
      "metadata": {
        "colab": {
          "base_uri": "https://localhost:8080/"
        },
        "id": "bCAHXyx0r91L",
        "outputId": "4b6c67f9-01c1-48f9-e5e5-388f9df03bab"
      },
      "execution_count": 23,
      "outputs": [
        {
          "output_type": "stream",
          "name": "stdout",
          "text": [
            "New dtype for this tensor is: torch.float16\n"
          ]
        }
      ]
    },
    {
      "cell_type": "markdown",
      "source": [
        "Now we'll change its datatype to `torch.int8`."
      ],
      "metadata": {
        "id": "m3JUUJ2osqlU"
      }
    },
    {
      "cell_type": "code",
      "source": [
        "tensor = tensor.type(torch.int8) # change datatype to float16\n",
        "print(f\"New dtype for this tensor is: {tensor.dtype}\") # print datatype"
      ],
      "metadata": {
        "colab": {
          "base_uri": "https://localhost:8080/"
        },
        "id": "eQrNa1dIskBC",
        "outputId": "c75c6376-a8bf-407e-849b-e6c1704f024c"
      },
      "execution_count": 24,
      "outputs": [
        {
          "output_type": "stream",
          "name": "stdout",
          "text": [
            "New dtype for this tensor is: torch.int8\n"
          ]
        }
      ]
    },
    {
      "cell_type": "markdown",
      "source": [
        "# **Thanks! Don't forget to Star the repo 🫡⭐**"
      ],
      "metadata": {
        "id": "e6SsceiFt5xj"
      }
    }
  ]
}