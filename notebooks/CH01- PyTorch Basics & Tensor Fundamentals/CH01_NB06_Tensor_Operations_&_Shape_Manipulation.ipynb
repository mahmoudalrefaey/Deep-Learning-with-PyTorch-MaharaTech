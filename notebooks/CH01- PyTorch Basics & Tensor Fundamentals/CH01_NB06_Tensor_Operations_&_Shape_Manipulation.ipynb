{
  "nbformat": 4,
  "nbformat_minor": 0,
  "metadata": {
    "colab": {
      "provenance": []
    },
    "kernelspec": {
      "name": "python3",
      "display_name": "Python 3"
    },
    "language_info": {
      "name": "python"
    }
  },
  "cells": [
    {
      "cell_type": "markdown",
      "source": [
        "# **Loading Torch Library**"
      ],
      "metadata": {
        "id": "mlrDP_OJEkD2"
      }
    },
    {
      "cell_type": "code",
      "execution_count": 1,
      "metadata": {
        "id": "PdGrBpbsEfKl"
      },
      "outputs": [],
      "source": [
        "import torch"
      ]
    },
    {
      "cell_type": "markdown",
      "source": [
        "# 1. Manipulating Tensors (Tensor Operations)\n",
        "\n",
        "In deep learning, data such as images, text, video, audio, and even protein structures are represented as **tensors**.\n",
        "\n",
        "A model learns by analyzing these tensors and performing a series of operations—sometimes numbering in the millions or more—to extract and represent patterns in the input data.\n",
        "\n",
        "These tensor operations often include:\n",
        "\n",
        "- **Addition**\n",
        "- **Subtraction**\n",
        "- **Element-wise Multiplication**\n",
        "- **Division**\n",
        "- **Matrix Multiplication**\n",
        "\n",
        "Together, these operations form the foundation of computations in deep learning models, enabling them to process and learn from complex, high-dimensional data.\n",
        "\n",
        "---\n",
        "\n",
        "> **Note:**  \n",
        "> A **tensor** is a generalization of scalars (0D), vectors (1D), and matrices (2D) to potentially higher dimensions (3D, 4D, etc.), making them a flexible and powerful data structure for machine learning and deep learning tasks."
      ],
      "metadata": {
        "id": "A-xST4xaE0QV"
      }
    },
    {
      "cell_type": "markdown",
      "source": [
        "### Basic Operations\n",
        "\n",
        "Let's start with a few of the fundamental operations: **addition (+)**, **subtraction (−)**, and **multiplication (×)**.\n",
        "These operations work just as you would expect—they are applied element-wise when working with tensors of the same shape."
      ],
      "metadata": {
        "id": "IqTEW6pPFH1P"
      }
    },
    {
      "cell_type": "code",
      "source": [
        "# create a tensor of values and subtract 2 from it\n",
        "tensor = torch.tensor([4, 6, 7])\n",
        "\n",
        "print(tensor - 2) # subtract 2 from tensor\n",
        "\n",
        "# OR\n",
        "\n",
        "print(tensor.sub(2))"
      ],
      "metadata": {
        "colab": {
          "base_uri": "https://localhost:8080/"
        },
        "id": "UlYwkmQpFocF",
        "outputId": "4f73fc03-e957-46af-8147-e4d5d3c417a7"
      },
      "execution_count": 13,
      "outputs": [
        {
          "output_type": "stream",
          "name": "stdout",
          "text": [
            "tensor([2, 4, 5])\n",
            "tensor([2, 4, 5])\n"
          ]
        }
      ]
    },
    {
      "cell_type": "code",
      "source": [
        "# create a tensor of values and add 2.5 to it\n",
        "tensor2 = torch.tensor([4, 6, 7])\n",
        "\n",
        "print(tensor2 + 2.5) # add 2.5 to tensor\n",
        "\n",
        "# OR\n",
        "\n",
        "print(tensor2.add(2.5))"
      ],
      "metadata": {
        "colab": {
          "base_uri": "https://localhost:8080/"
        },
        "id": "jmU5ozLQF7mO",
        "outputId": "9f0f247c-2c75-4e53-94e1-aed598103af1"
      },
      "execution_count": 12,
      "outputs": [
        {
          "output_type": "stream",
          "name": "stdout",
          "text": [
            "tensor([6.5000, 8.5000, 9.5000])\n",
            "tensor([6.5000, 8.5000, 9.5000])\n"
          ]
        }
      ]
    },
    {
      "cell_type": "code",
      "source": [
        "# create a tensor of values and multiply it by scalar 10\n",
        "tensor3 = torch.tensor([4, 6, 7])\n",
        "\n",
        "print(tensor3 * 10) # multiply tensor by 10\n",
        "\n",
        "# OR\n",
        "\n",
        "print(tensor3.multiply(10)) # you can short multiply with `.mul(10)`"
      ],
      "metadata": {
        "colab": {
          "base_uri": "https://localhost:8080/"
        },
        "id": "4L4POi6AEmWQ",
        "outputId": "fa5177fc-21d1-4ea4-dccc-82c270215220"
      },
      "execution_count": 11,
      "outputs": [
        {
          "output_type": "stream",
          "name": "stdout",
          "text": [
            "tensor([40, 60, 70])\n",
            "tensor([40, 60, 70])\n"
          ]
        }
      ]
    },
    {
      "cell_type": "markdown",
      "source": [
        "> **Note:**  \n",
        "> Tensors do **NOT** change **unless reassigned**"
      ],
      "metadata": {
        "id": "p-6u1tcFGUCd"
      }
    },
    {
      "cell_type": "code",
      "source": [
        "print(tensor) # output [4, 6, 7] NOT [2, 4, 5]\n",
        "print(tensor2) # output [4, 6, 7] NOT [6.5000, 8.5000, 9.5000]\n",
        "print(tensor3) # output [4, 6, 7] NOT [40, 60, 70]"
      ],
      "metadata": {
        "colab": {
          "base_uri": "https://localhost:8080/"
        },
        "id": "Dn15l4JjFkiJ",
        "outputId": "5fa263ca-7d1b-416c-968a-5dfcb2e6a087"
      },
      "execution_count": 9,
      "outputs": [
        {
          "output_type": "stream",
          "name": "stdout",
          "text": [
            "tensor([4, 6, 7])\n",
            "tensor([4, 6, 7])\n",
            "tensor([4, 6, 7])\n"
          ]
        }
      ]
    },
    {
      "cell_type": "code",
      "source": [
        "# Let's try reassigning\n",
        "\n",
        "tensor = tensor - 2\n",
        "tensor2 = tensor2 + 2.5\n",
        "tensor3 = tensor3 * 10\n",
        "\n",
        "print(tensor) # output [2, 4, 5]\n",
        "print(tensor2) # output [6.5000, 8.5000, 9.5000]\n",
        "print(tensor3) # output [40, 60, 70]"
      ],
      "metadata": {
        "colab": {
          "base_uri": "https://localhost:8080/"
        },
        "id": "EW_k22sXG8hs",
        "outputId": "78ec7cc5-b785-4454-efc9-f12587b4db16"
      },
      "execution_count": 10,
      "outputs": [
        {
          "output_type": "stream",
          "name": "stdout",
          "text": [
            "tensor([2, 4, 5])\n",
            "tensor([6.5000, 8.5000, 9.5000])\n",
            "tensor([40, 60, 70])\n"
          ]
        }
      ]
    },
    {
      "cell_type": "markdown",
      "source": [
        "## Matrix multiplication (is all you need)\n",
        "\n",
        "One of the most common operations in machine learning and deep learning algorithms (like neural networks) is [matrix multiplication](https://en.wikipedia.org/wiki/Matrix_multiplication).\n",
        "\n",
        "PyTorch implements matrix multiplication functionality in the [torch.matmul()](https://pytorch.org/docs/stable/generated/torch.matmul.html) method.\n",
        "\n",
        "The main two rules for matrix multiplication to remember are:\n",
        "\n",
        "1. **The inner dimensions must match:**\n",
        "    - `(3, 2) @ (3, 2)` won't work\n",
        "    - `(2, 3) @ (3, 2)` will work\n",
        "    - `(3, 2) @ (2, 3)` will work\n",
        "\n",
        "2. **The resulting matrix has the shape of the outer dimensions:**\n",
        "    - `(2, 3) @ (3, 2)` → `(2, 2)`\n",
        "    - `(3, 2) @ (2, 3)` → `(3, 3)`\n",
        "\n",
        "> **Note:**  \n",
        "> \"@\" in Python is the symbol for matrix multiplication.\n",
        "\n",
        "---\n",
        "\n",
        "**The difference** between **element-wise multiplication** and **matrix multiplication** is the addition of values.\n",
        "\n",
        "- e.g. `tensor` variable with values `[1, 2, 3]`:\n",
        "\n",
        "| Operation                  | Calculation                | Code                        |\n",
        "|----------------------------|----------------------------|-----------------------------|\n",
        "| **Element-wise multiplication**| [1\\*1, 2\\*2, 3\\*3] = [1, 4, 9] | `tensor * tensor`           |\n",
        "| **Matrix multiplication**      | [1\\*1 + 2\\*2 + 3\\*3] = [14]   |`tensor.matmul(tensor)`\n",
        "\n",
        "**Let's create a tensor and perform element-wise multiplication and matrix multiplication on it.**"
      ],
      "metadata": {
        "id": "YX_m-1E5IeCl"
      }
    },
    {
      "cell_type": "code",
      "source": [
        "Tensor = torch.tensor([[1,2,3],\n",
        "                       [4,5,6]])\n",
        "\n",
        "print(Tensor.shape) # Getting `Tensor` shape"
      ],
      "metadata": {
        "colab": {
          "base_uri": "https://localhost:8080/"
        },
        "id": "6DrX1pxvHUvr",
        "outputId": "c1476290-6a51-470d-f375-a968baaaa45d"
      },
      "execution_count": 16,
      "outputs": [
        {
          "output_type": "stream",
          "name": "stdout",
          "text": [
            "torch.Size([2, 3])\n"
          ]
        }
      ]
    },
    {
      "cell_type": "markdown",
      "source": [
        "> **Element-wise multiplication**"
      ],
      "metadata": {
        "id": "YjI9y3dVKrZr"
      }
    },
    {
      "cell_type": "code",
      "source": [
        "print(Tensor * Tensor)"
      ],
      "metadata": {
        "colab": {
          "base_uri": "https://localhost:8080/"
        },
        "id": "4YMRvL0iJY6h",
        "outputId": "c2481868-a322-4dd5-ce1d-1290e2631953"
      },
      "execution_count": 19,
      "outputs": [
        {
          "output_type": "stream",
          "name": "stdout",
          "text": [
            "tensor([[ 1,  4,  9],\n",
            "        [16, 25, 36]])\n"
          ]
        }
      ]
    },
    {
      "cell_type": "markdown",
      "source": [
        "> **Matrix Multiplication**"
      ],
      "metadata": {
        "id": "NUXa6nlVKxA6"
      }
    },
    {
      "cell_type": "code",
      "source": [
        "print(Tensor.matmul(Tensor)) # WRONG due to shapes! (2 x 3) * (2 x 3)"
      ],
      "metadata": {
        "colab": {
          "base_uri": "https://localhost:8080/",
          "height": 141
        },
        "id": "fVI2QeZKK34B",
        "outputId": "f4ac0477-333f-4b2a-c8a3-648677c32a44"
      },
      "execution_count": 20,
      "outputs": [
        {
          "output_type": "error",
          "ename": "RuntimeError",
          "evalue": "mat1 and mat2 shapes cannot be multiplied (2x3 and 2x3)",
          "traceback": [
            "\u001b[0;31m---------------------------------------------------------------------------\u001b[0m",
            "\u001b[0;31mRuntimeError\u001b[0m                              Traceback (most recent call last)",
            "\u001b[0;32m<ipython-input-20-a7a1058bf028>\u001b[0m in \u001b[0;36m<cell line: 0>\u001b[0;34m()\u001b[0m\n\u001b[0;32m----> 1\u001b[0;31m \u001b[0mprint\u001b[0m\u001b[0;34m(\u001b[0m\u001b[0mTensor\u001b[0m\u001b[0;34m.\u001b[0m\u001b[0mmatmul\u001b[0m\u001b[0;34m(\u001b[0m\u001b[0mTensor\u001b[0m\u001b[0;34m)\u001b[0m\u001b[0;34m)\u001b[0m\u001b[0;34m\u001b[0m\u001b[0;34m\u001b[0m\u001b[0m\n\u001b[0m",
            "\u001b[0;31mRuntimeError\u001b[0m: mat1 and mat2 shapes cannot be multiplied (2x3 and 2x3)"
          ]
        }
      ]
    },
    {
      "cell_type": "code",
      "source": [
        "print(Tensor.matmul(Tensor.T)) # WORKED as we used Transposed matrix for Tensor and now become (2 x 3) * (3 x 2)"
      ],
      "metadata": {
        "colab": {
          "base_uri": "https://localhost:8080/"
        },
        "id": "x_9mwQIpLGfZ",
        "outputId": "08b8affd-8edd-464e-f38c-442a8070d1c2"
      },
      "execution_count": 21,
      "outputs": [
        {
          "output_type": "stream",
          "name": "stdout",
          "text": [
            "tensor([[14, 32],\n",
            "        [32, 77]])\n"
          ]
        }
      ]
    },
    {
      "cell_type": "markdown",
      "source": [
        "> You can do **matrix multiplication by hand** but it's **NOT recommended.**\n",
        "The in-built `torch.matmul()` method is **faster**."
      ],
      "metadata": {
        "id": "CrOpHJzhL-mA"
      }
    },
    {
      "cell_type": "code",
      "source": [
        "%%time\n",
        "\n",
        "# Matrix multiplication by hand\n",
        "# (avoid doing operations with for loops at all cost, they are computationally expensive)\n",
        "\n",
        "tensor = torch.tensor([4, 6, 7])\n",
        "\n",
        "value = 0\n",
        "for i in range(len(tensor)):\n",
        "    value += tensor[i] * tensor[i]\n",
        "\n",
        "print(value)"
      ],
      "metadata": {
        "colab": {
          "base_uri": "https://localhost:8080/"
        },
        "id": "McKbMr85MRPY",
        "outputId": "628515ed-876a-4fae-8f20-ae2e17f00134"
      },
      "execution_count": 31,
      "outputs": [
        {
          "output_type": "stream",
          "name": "stdout",
          "text": [
            "tensor(101)\n",
            "CPU times: user 1.65 ms, sys: 57 µs, total: 1.71 ms\n",
            "Wall time: 1.38 ms\n"
          ]
        }
      ]
    },
    {
      "cell_type": "code",
      "source": [
        "%%time\n",
        "\n",
        "print(tensor.matmul(tensor.T))"
      ],
      "metadata": {
        "colab": {
          "base_uri": "https://localhost:8080/"
        },
        "id": "vrxnsT4mLwHx",
        "outputId": "b684baf1-c4b2-4b71-8182-8b518eb1f198"
      },
      "execution_count": 32,
      "outputs": [
        {
          "output_type": "stream",
          "name": "stdout",
          "text": [
            "tensor(101)\n",
            "CPU times: user 1.32 ms, sys: 0 ns, total: 1.32 ms\n",
            "Wall time: 1.18 ms\n"
          ]
        }
      ]
    },
    {
      "cell_type": "markdown",
      "source": [
        "# 2. Dealing with Tensor Shapes\n",
        "\n",
        "One of the most common errors in deep learning is related to **tensor shapes** (often called \"shape errors\").\n",
        "\n",
        "Because much of deep learning involves multiplying and performing operations on matrices, and matrices have strict rules about what shapes and sizes can be combined, **shape mismatches** are a frequent source of bugs.\n",
        "\n",
        "> **Tip:**  \n",
        "> Always check the shapes of your tensors before performing operations. Shape mismatches can lead to confusing errors and are one of the most common issues you'll encounter in deep learning workflows."
      ],
      "metadata": {
        "id": "01hdKjSkNE5I"
      }
    },
    {
      "cell_type": "code",
      "source": [
        "# Shapes need to be in the right way\n",
        "tensor_A = torch.tensor([\n",
        "    [1, 2],\n",
        "    [3, 4],\n",
        "    [5, 6]\n",
        "], dtype=torch.float32)\n",
        "\n",
        "tensor_B = torch.tensor([\n",
        "    [7, 10],\n",
        "    [8, 11],\n",
        "    [9, 12]\n",
        "], dtype=torch.float32)\n",
        "\n",
        "# This will raise an error due to incompatible shapes for matrix multiplication\n",
        "torch.matmul(tensor_A, tensor_B)  # (this will error)"
      ],
      "metadata": {
        "colab": {
          "base_uri": "https://localhost:8080/",
          "height": 176
        },
        "id": "LUGsMWvYNpWB",
        "outputId": "d0046f61-3d5e-49bf-b5eb-cf7de09b92e3"
      },
      "execution_count": 33,
      "outputs": [
        {
          "output_type": "error",
          "ename": "RuntimeError",
          "evalue": "mat1 and mat2 shapes cannot be multiplied (3x2 and 3x2)",
          "traceback": [
            "\u001b[0;31m---------------------------------------------------------------------------\u001b[0m",
            "\u001b[0;31mRuntimeError\u001b[0m                              Traceback (most recent call last)",
            "\u001b[0;32m<ipython-input-33-59eea362eda4>\u001b[0m in \u001b[0;36m<cell line: 0>\u001b[0;34m()\u001b[0m\n\u001b[1;32m     13\u001b[0m \u001b[0;34m\u001b[0m\u001b[0m\n\u001b[1;32m     14\u001b[0m \u001b[0;31m# This will raise an error due to incompatible shapes for matrix multiplication\u001b[0m\u001b[0;34m\u001b[0m\u001b[0;34m\u001b[0m\u001b[0m\n\u001b[0;32m---> 15\u001b[0;31m \u001b[0mtorch\u001b[0m\u001b[0;34m.\u001b[0m\u001b[0mmatmul\u001b[0m\u001b[0;34m(\u001b[0m\u001b[0mtensor_A\u001b[0m\u001b[0;34m,\u001b[0m \u001b[0mtensor_B\u001b[0m\u001b[0;34m)\u001b[0m  \u001b[0;31m# (this will error)\u001b[0m\u001b[0;34m\u001b[0m\u001b[0;34m\u001b[0m\u001b[0m\n\u001b[0m",
            "\u001b[0;31mRuntimeError\u001b[0m: mat1 and mat2 shapes cannot be multiplied (3x2 and 3x2)"
          ]
        }
      ]
    },
    {
      "cell_type": "markdown",
      "source": [
        "We can make matrix multiplication work between `tensor_A` and `tensor_B` by making their **inner dimensions** match.\n",
        "\n",
        "One of the ways to do this is with a **transpose** (switch the dimensions of a given tensor).\n",
        "\n",
        "You can perform transposes in PyTorch using either:\n",
        "\n",
        "- `torch.transpose(input, dim0, dim1)` – where `input` is the desired tensor to transpose and `dim0` and `dim1` are the dimensions to be swapped.\n",
        "- `tensor.T` – where `tensor` is the desired tensor to transpose.\n",
        "\n",
        "Let's try the latter."
      ],
      "metadata": {
        "id": "3J_f4ogvN-bP"
      }
    },
    {
      "cell_type": "code",
      "source": [
        "print(\"Before Transposing... \\n\")\n",
        "print(tensor_A)\n",
        "print('-'*40)\n",
        "print(\"After Transposing... \\n\")\n",
        "print(tensor_A.T)"
      ],
      "metadata": {
        "colab": {
          "base_uri": "https://localhost:8080/"
        },
        "id": "6ny3lCNKNz9o",
        "outputId": "32da93d7-3229-4fff-af56-e20a39aceed6"
      },
      "execution_count": 40,
      "outputs": [
        {
          "output_type": "stream",
          "name": "stdout",
          "text": [
            "Before Transposing... \n",
            "\n",
            "tensor([[1., 2.],\n",
            "        [3., 4.],\n",
            "        [5., 6.]])\n",
            "----------------------------------------\n",
            "After Transposing... \n",
            "\n",
            "tensor([[1., 3., 5.],\n",
            "        [2., 4., 6.]])\n"
          ]
        }
      ]
    },
    {
      "cell_type": "markdown",
      "source": [
        "> **The operation** works when `tensor_B` is **transposed**"
      ],
      "metadata": {
        "id": "z-ynE9ogPCLp"
      }
    },
    {
      "cell_type": "code",
      "source": [
        "print(f\"Original shapes: tensor_A = {tensor_A.shape}, tensor_B = {tensor_B.shape}\\n\")\n",
        "print(f\"New shapes: tensor_A = {tensor_A.shape} (same as above), tensor_B.T = {tensor_B.T.shape}\\n\")\n",
        "print(f\"Multiplying: {tensor_A.shape} * {tensor_B.T.shape} <- inner dimensions match\\n\")\n",
        "print(\"Output:\\n\")\n",
        "output = torch.matmul(tensor_A, tensor_B.T)\n",
        "print(output)\n",
        "print(f\"\\nOutput shape: {output.shape}\")"
      ],
      "metadata": {
        "colab": {
          "base_uri": "https://localhost:8080/"
        },
        "id": "LOj6Pm1QO7jH",
        "outputId": "064226a3-6b19-457b-e1ff-ccf4f088c41c"
      },
      "execution_count": 41,
      "outputs": [
        {
          "output_type": "stream",
          "name": "stdout",
          "text": [
            "Original shapes: tensor_A = torch.Size([3, 2]), tensor_B = torch.Size([3, 2])\n",
            "\n",
            "New shapes: tensor_A = torch.Size([3, 2]) (same as above), tensor_B.T = torch.Size([2, 3])\n",
            "\n",
            "Multiplying: torch.Size([3, 2]) * torch.Size([2, 3]) <- inner dimensions match\n",
            "\n",
            "Output:\n",
            "\n",
            "tensor([[ 27.,  30.,  33.],\n",
            "        [ 61.,  68.,  75.],\n",
            "        [ 95., 106., 117.]])\n",
            "\n",
            "Output shape: torch.Size([3, 3])\n"
          ]
        }
      ]
    },
    {
      "cell_type": "markdown",
      "source": [
        "> You can also use `torch.mm()` which is a short for `torch.matmul()`"
      ],
      "metadata": {
        "id": "by0KaaruPRsO"
      }
    },
    {
      "cell_type": "code",
      "source": [
        "# the last code but with `torch.mm()` instead\n",
        "mm_output = torch.mm(tensor_A, tensor_B.T)\n",
        "print(mm_output)"
      ],
      "metadata": {
        "colab": {
          "base_uri": "https://localhost:8080/"
        },
        "id": "jY581j2OPp2O",
        "outputId": "ddd07f5a-ae08-4523-cab9-e20106c0e6fc"
      },
      "execution_count": 43,
      "outputs": [
        {
          "output_type": "stream",
          "name": "stdout",
          "text": [
            "tensor([[ 27.,  30.,  33.],\n",
            "        [ 61.,  68.,  75.],\n",
            "        [ 95., 106., 117.]])\n"
          ]
        }
      ]
    },
    {
      "cell_type": "markdown",
      "source": [
        "# 3. Neural networks are full of matrix multiplications and dot products.\n",
        "\n",
        "The [torch.nn.Linear()](https://pytorch.org/docs/stable/generated/torch.nn.Linear.html) module (also known as a feed-forward layer or fully connected layer) implements a matrix multiplication between an input `x` and a weights matrix `A`:\n",
        "\n",
        "$$\n",
        "y = x \\cdot A^T + b\n",
        "$$\n",
        "\n",
        "**Where:**\n",
        "\n",
        "- `x` is the input to the layer (in deep learning, this is often a stack of layers like `torch.nn.Linear()` and others on top of each other).\n",
        "- `A` is the weights matrix created by the layer. This starts out as random numbers that get adjusted as a neural network learns to better represent patterns in the data (notice the \"T\" for transpose, because the weights matrix gets transposed).\n",
        "  - **Note:** You might also often see `W` or another letter like `X` used to represent the weights matrix.\n",
        "- `b` is the bias term used to slightly offset the weights and inputs.\n",
        "- `y` is the output (a manipulation of the input in the hopes to discover patterns in it).\n",
        "\n",
        "This is a linear function (you may have seen something like $$ y = mx + b $$ in high school or elsewhere), and can be used to draw a straight line!\n",
        "\n",
        "---\n",
        "\n",
        "Let's play around with a linear layer.\n",
        "\n",
        "Try changing the values of `in_features` and `out_features` below and see what happens."
      ],
      "metadata": {
        "id": "6nVMaAaKQc81"
      }
    },
    {
      "cell_type": "code",
      "source": [
        "# Since the linear layer starts with a random weights matrix, let's make it reproducible (more on this later)\n",
        "torch.manual_seed(52)\n",
        "\n",
        "# This uses matrix multiplication\n",
        "linear = torch.nn.Linear(in_features=2,  # in_features = matches inner dimension of input\n",
        "                        out_features=8) # out_features = describes outer value\n",
        "\n",
        "x = tensor_A\n",
        "output = linear(x)\n",
        "print(f\"Input shape: {x.shape}\\n\")\n",
        "print(f\"Output:\\n{output}\\n\\nOutput shape: {output.shape}\")"
      ],
      "metadata": {
        "colab": {
          "base_uri": "https://localhost:8080/"
        },
        "id": "c68O9yZaP1f1",
        "outputId": "07b1b659-855d-477d-e1ad-b58d4c666baa"
      },
      "execution_count": 53,
      "outputs": [
        {
          "output_type": "stream",
          "name": "stdout",
          "text": [
            "Input shape: torch.Size([3, 2])\n",
            "\n",
            "Output:\n",
            "tensor([[ 1.8014, -0.1416,  1.0696,  1.1630,  0.4917, -0.1042,  2.2159,  0.2706],\n",
            "        [ 3.2157,  0.2179,  2.9151,  1.8537, -0.1434, -0.3089,  4.4574,  0.9455],\n",
            "        [ 4.6300,  0.5773,  4.7606,  2.5445, -0.7785, -0.5136,  6.6989,  1.6205]],\n",
            "       grad_fn=<AddmmBackward0>)\n",
            "\n",
            "Output shape: torch.Size([3, 8])\n"
          ]
        }
      ]
    },
    {
      "cell_type": "markdown",
      "source": [
        "# **Thanks! Don't forget to Star the repo 🫡⭐**"
      ],
      "metadata": {
        "id": "6pzV8MEyGQ1m"
      }
    }
  ]
}
