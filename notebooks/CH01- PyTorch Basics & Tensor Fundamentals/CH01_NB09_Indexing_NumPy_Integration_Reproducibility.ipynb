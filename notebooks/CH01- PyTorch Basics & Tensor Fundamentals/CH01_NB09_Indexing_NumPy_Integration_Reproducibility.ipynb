{
  "nbformat": 4,
  "nbformat_minor": 0,
  "metadata": {
    "colab": {
      "provenance": []
    },
    "kernelspec": {
      "name": "python3",
      "display_name": "Python 3"
    },
    "language_info": {
      "name": "python"
    }
  },
  "cells": [
    {
      "cell_type": "markdown",
      "source": [
        "# **Loading Torch Library**"
      ],
      "metadata": {
        "id": "qTEkXmKpylWf"
      }
    },
    {
      "cell_type": "code",
      "source": [
        "import torch"
      ],
      "metadata": {
        "id": "6XxrQKlJytuM"
      },
      "execution_count": 2,
      "outputs": []
    },
    {
      "cell_type": "markdown",
      "source": [
        "### 1. Indexing (selecting data from tensors)\n",
        "\n",
        "Sometimes you'll want to select specific data from tensors (for example, only the first column or second row).\n",
        "\n",
        "To do so, you can use indexing.\n",
        "\n",
        "If you've ever done indexing on Python lists or NumPy arrays, indexing in PyTorch with tensors is very similar."
      ],
      "metadata": {
        "id": "9ZUG9CN4zCb-"
      }
    },
    {
      "cell_type": "code",
      "source": [
        "# Create tensor `X`\n",
        "X = torch.arange(1, 10).reshape(1, 3, 3)\n",
        "\n",
        "print(X) # print tensor `X`\n",
        "print(X.shape) # print tensor `X` shape"
      ],
      "metadata": {
        "colab": {
          "base_uri": "https://localhost:8080/"
        },
        "id": "W88MPyg7y7Ks",
        "outputId": "bf13e8c0-62b7-4081-d3f9-57f1a5533a53"
      },
      "execution_count": 21,
      "outputs": [
        {
          "output_type": "stream",
          "name": "stdout",
          "text": [
            "tensor([[[1, 2, 3],\n",
            "         [4, 5, 6],\n",
            "         [7, 8, 9]]])\n",
            "torch.Size([1, 3, 3])\n"
          ]
        }
      ]
    },
    {
      "cell_type": "markdown",
      "source": [
        "Indexing values goes outer dimension -> inner dimension (check out the square brackets)."
      ],
      "metadata": {
        "id": "udwo1I8ozkJT"
      }
    },
    {
      "cell_type": "code",
      "source": [
        "# Indexing by brackets\n",
        "print(f\"First square bracket:\\n{X[0]}\")\n",
        "print(f\"Second square bracket: {X[0][0]}\")\n",
        "print(f\"Third square bracket: {X[0][0][0]}\")"
      ],
      "metadata": {
        "colab": {
          "base_uri": "https://localhost:8080/"
        },
        "id": "6c8f8GTqzj1t",
        "outputId": "90678b90-c886-4bbb-c966-01452ae9a978"
      },
      "execution_count": 26,
      "outputs": [
        {
          "output_type": "stream",
          "name": "stdout",
          "text": [
            "First square bracket:\n",
            "tensor([[1, 2, 3],\n",
            "        [4, 5, 6],\n",
            "        [7, 8, 9]])\n",
            "Second square bracket: tensor([1, 2, 3])\n",
            "Third square bracket: 1\n"
          ]
        }
      ]
    },
    {
      "cell_type": "markdown",
      "source": [
        "You can also use `:` to specify \"all values in this dimension\" and then use a comma (`,`) to add another dimension."
      ],
      "metadata": {
        "id": "x7uw17bT0CEz"
      }
    },
    {
      "cell_type": "code",
      "source": [
        "# Get all values of 0th dimension and the 0 index of 1st dimension\n",
        "print(X[:,0])"
      ],
      "metadata": {
        "colab": {
          "base_uri": "https://localhost:8080/"
        },
        "id": "Ym306zk1y7S0",
        "outputId": "7b230c53-1cbe-4df1-9eea-1b154f7f2a99"
      },
      "execution_count": 24,
      "outputs": [
        {
          "output_type": "stream",
          "name": "stdout",
          "text": [
            "tensor([[1, 2, 3]])\n"
          ]
        }
      ]
    },
    {
      "cell_type": "code",
      "source": [
        "# Get all values of 0th & 1st dimensions but only index 1 of 2nd dimension\n",
        "print(X[:,:,1])"
      ],
      "metadata": {
        "colab": {
          "base_uri": "https://localhost:8080/"
        },
        "id": "MLRZTswa0j27",
        "outputId": "07d1aa2e-0464-4c9d-93aa-f56865447330"
      },
      "execution_count": 25,
      "outputs": [
        {
          "output_type": "stream",
          "name": "stdout",
          "text": [
            "tensor([[2, 5, 8]])\n"
          ]
        }
      ]
    },
    {
      "cell_type": "code",
      "source": [
        "# Get all values of the 0 dimension but only the 1 index value of the 1st and 2nd dimension\n",
        "print(X[:, 1, 1])"
      ],
      "metadata": {
        "colab": {
          "base_uri": "https://localhost:8080/"
        },
        "id": "DkxPn6VT1GzC",
        "outputId": "0f90f922-71bb-481e-dd23-784f9bb474ab"
      },
      "execution_count": 27,
      "outputs": [
        {
          "output_type": "stream",
          "name": "stdout",
          "text": [
            "tensor([5])\n"
          ]
        }
      ]
    },
    {
      "cell_type": "code",
      "source": [
        "# Get index 0 of 0th and 1st dimension and all values of 2nd dimension\n",
        "print(X[0, 0, :])  # same as X[0][0]"
      ],
      "metadata": {
        "colab": {
          "base_uri": "https://localhost:8080/"
        },
        "id": "2mKvyy6C1Rgq",
        "outputId": "c0da7904-f123-497b-be06-3179f7e411c1"
      },
      "execution_count": 29,
      "outputs": [
        {
          "output_type": "stream",
          "name": "stdout",
          "text": [
            "tensor([1, 2, 3])\n"
          ]
        }
      ]
    },
    {
      "cell_type": "markdown",
      "source": [
        "### 2. PyTorch tensors & NumPy\n",
        "\n",
        "Since NumPy is a popular Python numerical computing library, PyTorch has functionality to interact with it nicely.\n",
        "\n",
        "The two main methods you'll want to use for NumPy to PyTorch (and back again) are:\n",
        "\n",
        "- [torch.from_numpy(ndarray)](https://pytorch.org/docs/stable/generated/torch.from_numpy.html) - NumPy array -> PyTorch tensor.\n",
        "- [torch.Tensor.numpy()](https://pytorch.org/docs/stable/generated/torch.Tensor.numpy.html) - PyTorch tensor -> NumPy array.\n",
        "\n",
        "Let's try them out."
      ],
      "metadata": {
        "id": "26jOirXU1ltS"
      }
    },
    {
      "cell_type": "code",
      "source": [
        "import numpy as np\n",
        "\n",
        "# Create np array\n",
        "array = np.arange(1, 8)\n",
        "\n",
        "# # NumPy array to tensor\n",
        "tensor = torch.from_numpy(array)\n",
        "\n",
        "print(tensor, type(tensor)) # print `tensor` and it's dtype\n",
        "print(array, type(array)) # print `array` and it's dtype"
      ],
      "metadata": {
        "colab": {
          "base_uri": "https://localhost:8080/"
        },
        "id": "xzmuQq521rCq",
        "outputId": "c0e509eb-f8f8-485f-f039-77dbeb014dcd"
      },
      "execution_count": 42,
      "outputs": [
        {
          "output_type": "stream",
          "name": "stdout",
          "text": [
            "tensor([1, 2, 3, 4, 5, 6, 7]) <class 'torch.Tensor'>\n",
            "[1 2 3 4 5 6 7] <class 'numpy.ndarray'>\n"
          ]
        }
      ]
    },
    {
      "cell_type": "markdown",
      "source": [
        "> Creating a new array with modifying the old one doesn't Change or affect tensors that are connected to this array and vice versa..\n",
        "\n",
        "Example:"
      ],
      "metadata": {
        "id": "DTu7ahEW2OH5"
      }
    },
    {
      "cell_type": "code",
      "source": [
        "arr = np.array([1, 2, 3])\n",
        "tensor_1 = torch.from_numpy(arr) # Connect `tensor_1` and `arr` to shared memory.\n",
        "\n",
        "# Creating a new array with modifying the old one\n",
        "arr = arr + 100\n",
        "\n",
        "print(tensor_1) # `tensor_1` stays the same, `arr` doesn't affect `tensor_1`\n",
        "print(arr) # output [101, 102, 103]"
      ],
      "metadata": {
        "colab": {
          "base_uri": "https://localhost:8080/"
        },
        "id": "6DPwXC-O4pGX",
        "outputId": "d22ef95f-7555-4521-dd70-fe187445d8be"
      },
      "execution_count": 44,
      "outputs": [
        {
          "output_type": "stream",
          "name": "stdout",
          "text": [
            "tensor([1, 2, 3])\n",
            "[101 102 103]\n"
          ]
        }
      ]
    },
    {
      "cell_type": "markdown",
      "source": [
        "BUT and there is a **BUT**"
      ],
      "metadata": {
        "id": "vG2PBAA63Hv0"
      }
    },
    {
      "cell_type": "markdown",
      "source": [
        "> Modifying the array it self (e.g. by indexing) **DOES** **Change** and **affect** tensors that are connected to this array as they have the **SAME MEMORY** vice versa..\n",
        "\n",
        "Example:"
      ],
      "metadata": {
        "id": "tem06EG6474P"
      }
    },
    {
      "cell_type": "code",
      "source": [
        "arr_2 = np.array([1, 2, 3])\n",
        "tensor_2 = torch.from_numpy(arr_2) # Connect `tensor_2` and `arr_2` to shared memory.\n",
        "\n",
        "# Modifying the array with index\n",
        "arr_2[0] = 100\n",
        "\n",
        "print(tensor_2) # `tensor_2` affected, `arr_2` does affect `tensor_2` due to sharing memory\n",
        "print(arr_2) # output [100, 2, 3]"
      ],
      "metadata": {
        "colab": {
          "base_uri": "https://localhost:8080/"
        },
        "id": "SkYui_wf5Q4f",
        "outputId": "b9ed231b-c7d9-443e-e30a-26bc1420d4f4"
      },
      "execution_count": 45,
      "outputs": [
        {
          "output_type": "stream",
          "name": "stdout",
          "text": [
            "tensor([100,   2,   3])\n",
            "[100   2   3]\n"
          ]
        }
      ]
    },
    {
      "cell_type": "markdown",
      "source": [
        "### 3. Reproduciability"
      ],
      "metadata": {
        "id": "RsSe5ZU451om"
      }
    },
    {
      "cell_type": "code",
      "source": [
        "# Create two random tensors\n",
        "random_tensor_A = torch.rand(3, 4)\n",
        "random_tensor_B = torch.rand(3, 4)\n",
        "\n",
        "print(f\"Tensor A:\\n{random_tensor_A}\\n\")\n",
        "print(f\"Tensor B:\\n{random_tensor_B}\\n\")\n",
        "print(f\"Does Tensor A equal Tensor B? (anywhere)\")\n",
        "random_tensor_A == random_tensor_B"
      ],
      "metadata": {
        "colab": {
          "base_uri": "https://localhost:8080/"
        },
        "id": "0yskoiVG6D5F",
        "outputId": "378018bf-bf1d-4b86-d345-14b1a1fa081e"
      },
      "execution_count": 46,
      "outputs": [
        {
          "output_type": "stream",
          "name": "stdout",
          "text": [
            "Tensor A:\n",
            "tensor([[0.2996, 0.9271, 0.0570, 0.8050],\n",
            "        [0.0994, 0.2809, 0.8646, 0.8949],\n",
            "        [0.9786, 0.7801, 0.8927, 0.2644]])\n",
            "\n",
            "Tensor B:\n",
            "tensor([[0.7135, 0.9586, 0.7264, 0.9291],\n",
            "        [0.2026, 0.2789, 0.0487, 0.1970],\n",
            "        [0.7921, 0.5812, 0.0259, 0.8703]])\n",
            "\n",
            "Does Tensor A equal Tensor B? (anywhere)\n"
          ]
        },
        {
          "output_type": "execute_result",
          "data": {
            "text/plain": [
              "tensor([[False, False, False, False],\n",
              "        [False, False, False, False],\n",
              "        [False, False, False, False]])"
            ]
          },
          "metadata": {},
          "execution_count": 46
        }
      ]
    },
    {
      "cell_type": "code",
      "source": [
        "# Set the random seed\n",
        "RANDOM_SEED = 42  # try changing this to different values and see what happens to the numbers below\n",
        "torch.manual_seed(seed=RANDOM_SEED)\n",
        "random_tensor_C = torch.rand(3, 4)\n",
        "\n",
        "# Have to reset the seed every time a new rand() is called\n",
        "# Without this, tensor_D would be different to tensor_C\n",
        "torch.manual_seed(seed=RANDOM_SEED)  # try commenting this line out and seeing what happens\n",
        "random_tensor_D = torch.rand(3, 4)\n",
        "\n",
        "print(f\"Tensor C:\\n{random_tensor_C}\\n\")\n",
        "print(f\"Tensor D:\\n{random_tensor_D}\\n\")\n",
        "print(f\"Does Tensor C equal Tensor D? (anywhere)\")\n",
        "random_tensor_C == random_tensor_D"
      ],
      "metadata": {
        "colab": {
          "base_uri": "https://localhost:8080/"
        },
        "id": "OGuhSiZ26VqV",
        "outputId": "17c798be-cfb3-49fe-d5f6-d2b316484817"
      },
      "execution_count": 48,
      "outputs": [
        {
          "output_type": "stream",
          "name": "stdout",
          "text": [
            "Tensor C:\n",
            "tensor([[0.8823, 0.9150, 0.3829, 0.9593],\n",
            "        [0.3904, 0.6009, 0.2566, 0.7936],\n",
            "        [0.9408, 0.1332, 0.9346, 0.5936]])\n",
            "\n",
            "Tensor D:\n",
            "tensor([[0.8823, 0.9150, 0.3829, 0.9593],\n",
            "        [0.3904, 0.6009, 0.2566, 0.7936],\n",
            "        [0.9408, 0.1332, 0.9346, 0.5936]])\n",
            "\n",
            "Does Tensor C equal Tensor D? (anywhere)\n"
          ]
        },
        {
          "output_type": "execute_result",
          "data": {
            "text/plain": [
              "tensor([[True, True, True, True],\n",
              "        [True, True, True, True],\n",
              "        [True, True, True, True]])"
            ]
          },
          "metadata": {},
          "execution_count": 48
        }
      ]
    },
    {
      "cell_type": "markdown",
      "source": [
        "# **Thanks! Don't forget to Star the repo 🫡⭐**"
      ],
      "metadata": {
        "id": "CxT05fTIyuDk"
      }
    }
  ]
}