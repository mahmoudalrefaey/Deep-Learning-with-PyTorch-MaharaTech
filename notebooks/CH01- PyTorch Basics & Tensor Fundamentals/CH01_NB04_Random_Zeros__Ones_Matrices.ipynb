{
  "nbformat": 4,
  "nbformat_minor": 0,
  "metadata": {
    "colab": {
      "provenance": []
    },
    "kernelspec": {
      "name": "python3",
      "display_name": "Python 3"
    },
    "language_info": {
      "name": "python"
    }
  },
  "cells": [
    {
      "cell_type": "markdown",
      "source": [
        "# **Loading Torch Library**"
      ],
      "metadata": {
        "id": "N_zYG6HbEMMU"
      }
    },
    {
      "cell_type": "code",
      "execution_count": 1,
      "metadata": {
        "id": "IkJY587WD1r_"
      },
      "outputs": [],
      "source": [
        "import torch"
      ]
    },
    {
      "cell_type": "markdown",
      "source": [
        "## **1. Random Tensors**\n",
        "When building machine learning models with PyTorch, it's rare that you'll create tensors manually (like we've been doing so far). Instead, a **machine learning model typically starts with large random tensors of numbers**. These random numbers are then adjusted as the model processes data to better represent patterns within it.\n",
        "\n",
        "In essence:\n",
        "Start with random numbers → look at data → update random numbers → look at data → update random numbers... and so on.\n",
        "\n",
        "As a data scientist, you define how the machine learning model starts (initialization), interprets the data (representation), and updates its random numbers (optimization).\n",
        "\n",
        "Now, let's see how to create a tensor of random numbers.\n",
        "We can do this using [torch.rand()](https://pytorch.org/docs/stable/generated/torch.rand.html) and passing in the desired size as a parameter."
      ],
      "metadata": {
        "id": "O419gmykERqU"
      }
    },
    {
      "cell_type": "code",
      "source": [
        "# Create random tensors of size (dimensions) 3, 4\n",
        "random_tensors = torch.rand(size =(3, 4)) # or ```torch.rand(3, 4)```\n",
        "\n",
        "print(random_tensors) # Print random values in `random_tensors`\n",
        "print(random_tensors.dtype) # Print dtypes of values in `random_tensors`\n",
        "print(random_tensors.shape) # Get the shape of `random_tensors`\n",
        "print(random_tensors.ndim) # Get the number of dimensions of `random_tensors`"
      ],
      "metadata": {
        "colab": {
          "base_uri": "https://localhost:8080/"
        },
        "id": "7EK2L3_tEN6J",
        "outputId": "acbdc910-3f81-40b6-a5f5-8070a5a6a02e"
      },
      "execution_count": 12,
      "outputs": [
        {
          "output_type": "stream",
          "name": "stdout",
          "text": [
            "tensor([[0.5827, 0.1094, 0.3765, 0.6203],\n",
            "        [0.1388, 0.3229, 0.9218, 0.1989],\n",
            "        [0.8863, 0.3723, 0.0837, 0.2229]])\n",
            "torch.float32\n",
            "torch.Size([3, 4])\n",
            "2\n"
          ]
        }
      ]
    },
    {
      "cell_type": "code",
      "source": [
        "# Create random tensors of size (dimensions) 224,224,3\n",
        "random_tensors2 = torch.rand(size =(224,224,3))\n",
        "\n",
        "print(random_tensors2) # Print random values in `random_tensors2`\n",
        "print(random_tensors2.dtype) # Print dtypes of values in `random_tensors2`\n",
        "print(random_tensors2.shape) # Get the shape of `random_tensors2`\n",
        "print(random_tensors2.ndim) # Get the number of dimensions of `random_tensors2`"
      ],
      "metadata": {
        "colab": {
          "base_uri": "https://localhost:8080/"
        },
        "id": "dOheo7KzG0eK",
        "outputId": "c8780807-c05b-4c53-b4cb-4f9c26203431"
      },
      "execution_count": 13,
      "outputs": [
        {
          "output_type": "stream",
          "name": "stdout",
          "text": [
            "tensor([[[0.2512, 0.5522, 0.6157],\n",
            "         [0.0318, 0.6483, 0.1315],\n",
            "         [0.6464, 0.0501, 0.0621],\n",
            "         ...,\n",
            "         [0.2016, 0.2795, 0.9794],\n",
            "         [0.8632, 0.8824, 0.3569],\n",
            "         [0.8779, 0.4705, 0.5695]],\n",
            "\n",
            "        [[0.5371, 0.7936, 0.7272],\n",
            "         [0.2523, 0.9907, 0.9835],\n",
            "         [0.0572, 0.4154, 0.6843],\n",
            "         ...,\n",
            "         [0.3699, 0.9390, 0.4791],\n",
            "         [0.3363, 0.6960, 0.5175],\n",
            "         [0.2429, 0.8246, 0.4905]],\n",
            "\n",
            "        [[0.1613, 0.9428, 0.7809],\n",
            "         [0.9035, 0.9337, 0.1273],\n",
            "         [0.1568, 0.1473, 0.1371],\n",
            "         ...,\n",
            "         [0.1412, 0.9363, 0.6326],\n",
            "         [0.3473, 0.2935, 0.6847],\n",
            "         [0.1102, 0.6248, 0.4411]],\n",
            "\n",
            "        ...,\n",
            "\n",
            "        [[0.3007, 0.5159, 0.9325],\n",
            "         [0.8161, 0.7842, 0.3946],\n",
            "         [0.7562, 0.8359, 0.2315],\n",
            "         ...,\n",
            "         [0.1954, 0.9125, 0.3693],\n",
            "         [0.4987, 0.3555, 0.8710],\n",
            "         [0.6997, 0.7264, 0.4646]],\n",
            "\n",
            "        [[0.9600, 0.0025, 0.8785],\n",
            "         [0.0965, 0.8067, 0.3467],\n",
            "         [0.1944, 0.6335, 0.0512],\n",
            "         ...,\n",
            "         [0.8940, 0.4649, 0.6391],\n",
            "         [0.8594, 0.5095, 0.2595],\n",
            "         [0.5682, 0.8529, 0.2960]],\n",
            "\n",
            "        [[0.1767, 0.5703, 0.7399],\n",
            "         [0.0593, 0.5273, 0.7927],\n",
            "         [0.6141, 0.9048, 0.3509],\n",
            "         ...,\n",
            "         [0.8232, 0.2098, 0.9696],\n",
            "         [0.5235, 0.6895, 0.6489],\n",
            "         [0.2760, 0.2695, 0.6916]]])\n",
            "torch.float32\n",
            "torch.Size([224, 224, 3])\n",
            "3\n"
          ]
        }
      ]
    },
    {
      "cell_type": "markdown",
      "source": [
        "## **2. Zeros & Ones**"
      ],
      "metadata": {
        "id": "PidBYhgUIdqh"
      }
    },
    {
      "cell_type": "code",
      "source": [
        "# Create tensor of all zeros of size (dimensions) 3, 4\n",
        "zeros_tensors = torch.zeros(size =(3, 4))\n",
        "\n",
        "print(zeros_tensors)\n",
        "print(zeros_tensors.dtype)\n",
        "print(zeros_tensors.shape)\n",
        "print(zeros_tensors.ndim)"
      ],
      "metadata": {
        "colab": {
          "base_uri": "https://localhost:8080/"
        },
        "id": "7e1mg8YvH2IB",
        "outputId": "4fdcfdc7-c52f-4c49-a53f-85627ab8cc5f"
      },
      "execution_count": 14,
      "outputs": [
        {
          "output_type": "stream",
          "name": "stdout",
          "text": [
            "tensor([[0., 0., 0., 0.],\n",
            "        [0., 0., 0., 0.],\n",
            "        [0., 0., 0., 0.]])\n",
            "torch.float32\n",
            "torch.Size([3, 4])\n",
            "2\n"
          ]
        }
      ]
    },
    {
      "cell_type": "code",
      "source": [
        "# Create tensor of all ones of size (dimensions) 3, 4\n",
        "ones_tensors = torch.ones(size =(3, 4))\n",
        "\n",
        "print(ones_tensors)\n",
        "print(ones_tensors.dtype)\n",
        "print(ones_tensors.shape)\n",
        "print(ones_tensors.ndim)"
      ],
      "metadata": {
        "colab": {
          "base_uri": "https://localhost:8080/"
        },
        "id": "4ASRkpFlJBqI",
        "outputId": "78b82543-7599-45ca-b1f1-5e59bb60b842"
      },
      "execution_count": 16,
      "outputs": [
        {
          "output_type": "stream",
          "name": "stdout",
          "text": [
            "tensor([[1., 1., 1., 1.],\n",
            "        [1., 1., 1., 1.],\n",
            "        [1., 1., 1., 1.]])\n",
            "torch.float32\n",
            "torch.Size([3, 4])\n",
            "2\n"
          ]
        }
      ]
    },
    {
      "cell_type": "markdown",
      "source": [
        "# **Thanks! Don't forget to Star the repo 🫡⭐**\n",
        "\n"
      ],
      "metadata": {
        "id": "uYE05gq-JLIK"
      }
    }
  ]
}
